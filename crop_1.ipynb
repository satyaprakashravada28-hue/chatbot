{
 "cells": [
  {
   "cell_type": "code",
   "execution_count": 11,
   "id": "75a7cdc7-f77f-44ca-a2a7-a6233da21169",
   "metadata": {},
   "outputs": [
    {
     "name": "stdout",
     "output_type": "stream",
     "text": [
      "✅ Model, scaler, encoders, and target_encoder saved successfully.\n"
     ]
    }
   ],
   "source": [
    "import pandas as pd\n",
    "from sklearn.model_selection import train_test_split\n",
    "from sklearn.preprocessing import LabelEncoder, StandardScaler\n",
    "from sklearn.ensemble import RandomForestClassifier\n",
    "import joblib\n",
    "\n",
    "# Load updated dataset\n",
    "df = pd.read_csv(\"Crop_recommendation_updated.csv\")\n",
    "\n",
    "# Encode categorical columns\n",
    "categorical_cols = [\"season\", \"district\", \"soil_type\", \"water_availability\", \"fertilizer_used\"]\n",
    "le_dict = {}\n",
    "for col in categorical_cols:\n",
    "    le = LabelEncoder()\n",
    "    df[col] = le.fit_transform(df[col])\n",
    "    le_dict[col] = le\n",
    "\n",
    "# Encode target (crop labels)\n",
    "target_encoder = LabelEncoder()\n",
    "df[\"label\"] = target_encoder.fit_transform(df[\"label\"])\n",
    "\n",
    "# Features and target\n",
    "X = df.drop(\"label\", axis=1)  # 13 features\n",
    "y = df[\"label\"]\n",
    "\n",
    "# Scale features\n",
    "scaler = StandardScaler()\n",
    "X_scaled = scaler.fit_transform(X)\n",
    "\n",
    "# Train-test split\n",
    "X_train, X_test, y_train, y_test = train_test_split(X_scaled, y, test_size=0.2, random_state=42)\n",
    "\n",
    "# Train model\n",
    "model = RandomForestClassifier(random_state=42)\n",
    "model.fit(X_train, y_train)\n",
    "\n",
    "# Save all objects\n",
    "joblib.dump(model, \"model/crop_model.pkl\")\n",
    "joblib.dump(scaler, \"model/scaler.pkl\")\n",
    "joblib.dump(le_dict, \"model/label_encoders.pkl\")\n",
    "joblib.dump(target_encoder, \"model/target_encoder.pkl\")\n",
    "\n",
    "print(\"✅ Model, scaler, encoders, and target_encoder saved successfully.\")\n"
   ]
  },
  {
   "cell_type": "code",
   "execution_count": 7,
   "id": "99e75599-1631-40fd-8606-15144d7e9fec",
   "metadata": {},
   "outputs": [
    {
     "name": "stdout",
     "output_type": "stream",
     "text": [
      "Predicted Crop: pigeonpeas\n"
     ]
    },
    {
     "name": "stderr",
     "output_type": "stream",
     "text": [
      "C:\\Users\\satya\\AppData\\Local\\Programs\\Python\\Python313\\Lib\\site-packages\\sklearn\\utils\\validation.py:2739: UserWarning: X does not have valid feature names, but RandomForestClassifier was fitted with feature names\n",
      "  warnings.warn(\n"
     ]
    }
   ],
   "source": [
    "sample_input3 = prepare_input(\n",
    "    40,   # N\n",
    "    60,   # P\n",
    "    50,   # K\n",
    "    20.0, # temperature\n",
    "    65.0, # humidity\n",
    "    6.0,  # ph\n",
    "    180.0,# rainfall\n",
    "    \"Rabi\",         # season\n",
    "    \"Hyderabad\",    # district\n",
    "    \"Black\",        # soil_type\n",
    "    \"High\",         # water_availability\n",
    "    \"Urea\",         # fertilizer_used\n",
    "    6               # sunlight_hours\n",
    ")\n",
    "\n",
    "print(\"Predicted Crop:\", predict_crop(sample_input3))"
   ]
  },
  {
   "cell_type": "code",
   "execution_count": 8,
   "id": "f6a3d416-72f8-46eb-8f44-e638e18303fe",
   "metadata": {},
   "outputs": [],
   "source": [
    "import pickle\n",
    "\n",
    "# Save trained model\n",
    "with open(\"model.pkl\", \"wb\") as f:\n",
    "    pickle.dump(model, f)\n",
    "\n",
    "# Save label encoders dictionary\n",
    "with open(\"label_encoder.pkl\", \"wb\") as f:\n",
    "    pickle.dump(le_dict, f)\n"
   ]
  },
  {
   "cell_type": "code",
   "execution_count": 9,
   "id": "d59a02b0-1602-426f-81a5-503b26676eea",
   "metadata": {},
   "outputs": [
    {
     "data": {
      "text/plain": [
       "['label_encoder.pkl']"
      ]
     },
     "execution_count": 9,
     "metadata": {},
     "output_type": "execute_result"
    }
   ],
   "source": [
    "import joblib\n",
    "joblib.dump(model, 'crop_recommendation_model.pkl')\n",
    "joblib.dump(label_encoder, 'label_encoder.pkl')\n",
    "joblib.dump(scaler, \"model/scaler.pkl\")"
   ]
  },
  {
   "cell_type": "code",
   "execution_count": 12,
   "id": "5b7a77e2-c6e1-4282-9b96-6e4f44cc1dac",
   "metadata": {},
   "outputs": [
    {
     "name": "stdout",
     "output_type": "stream",
     "text": [
      "Predicted Crop: apple\n"
     ]
    }
   ],
   "source": [
    "df.head()\n",
    "# ---------- Predict function ----------\n",
    "def predict_crop(input_array):\n",
    "    encoded_pred = model.predict([input_array])\n",
    "    return label_encoder.inverse_transform(encoded_pred)[0]\n",
    "\n",
    "# ---------- Example test ----------\n",
    "sample_input2 = prepare_input(120, 30, 40, 28.0, 85.0, 6.8, 250.0,\n",
    "                              \"Kharif\", \"Bengaluru\", \"Red\", \"Medium\", \"NPK\", 7)\n",
    "\n",
    "print(\"Predicted Crop:\", predict_crop(sample_input2))\n"
   ]
  },
  {
   "cell_type": "code",
   "execution_count": 9,
   "id": "c06cfd24-6945-45f1-a0ad-b56a8bfd627b",
   "metadata": {},
   "outputs": [
    {
     "data": {
      "text/plain": [
       "['model/scaler.pkl']"
      ]
     },
     "execution_count": 9,
     "metadata": {},
     "output_type": "execute_result"
    }
   ],
   "source": [
    "import joblib\n",
    "joblib.dump(scaler, \"model/scaler.pkl\")"
   ]
  },
  {
   "cell_type": "code",
   "execution_count": 10,
   "id": "d8b975e8-0e81-4bfc-8e0e-d90998c73323",
   "metadata": {},
   "outputs": [
    {
     "data": {
      "text/plain": [
       "['model/crop_model.pkl']"
      ]
     },
     "execution_count": 10,
     "metadata": {},
     "output_type": "execute_result"
    }
   ],
   "source": [
    "joblib.dump(model, \"model/crop_model.pkl\")"
   ]
  },
  {
   "cell_type": "code",
   "execution_count": 13,
   "id": "d4a61c78-9132-4697-b476-28efa760bf18",
   "metadata": {},
   "outputs": [
    {
     "data": {
      "text/html": [
       "<div>\n",
       "<style scoped>\n",
       "    .dataframe tbody tr th:only-of-type {\n",
       "        vertical-align: middle;\n",
       "    }\n",
       "\n",
       "    .dataframe tbody tr th {\n",
       "        vertical-align: top;\n",
       "    }\n",
       "\n",
       "    .dataframe thead th {\n",
       "        text-align: right;\n",
       "    }\n",
       "</style>\n",
       "<table border=\"1\" class=\"dataframe\">\n",
       "  <thead>\n",
       "    <tr style=\"text-align: right;\">\n",
       "      <th></th>\n",
       "      <th>N</th>\n",
       "      <th>P</th>\n",
       "      <th>K</th>\n",
       "      <th>temperature</th>\n",
       "      <th>humidity</th>\n",
       "      <th>ph</th>\n",
       "      <th>rainfall</th>\n",
       "      <th>label</th>\n",
       "      <th>season</th>\n",
       "      <th>district</th>\n",
       "      <th>soil_type</th>\n",
       "      <th>water_availability</th>\n",
       "      <th>fertilizer_used</th>\n",
       "      <th>sunlight_hours</th>\n",
       "    </tr>\n",
       "  </thead>\n",
       "  <tbody>\n",
       "    <tr>\n",
       "      <th>0</th>\n",
       "      <td>90</td>\n",
       "      <td>42</td>\n",
       "      <td>43</td>\n",
       "      <td>20.879744</td>\n",
       "      <td>82.002744</td>\n",
       "      <td>6.502985</td>\n",
       "      <td>202.935536</td>\n",
       "      <td>20</td>\n",
       "      <td>2</td>\n",
       "      <td>0</td>\n",
       "      <td>3</td>\n",
       "      <td>0</td>\n",
       "      <td>2</td>\n",
       "      <td>5</td>\n",
       "    </tr>\n",
       "    <tr>\n",
       "      <th>1</th>\n",
       "      <td>85</td>\n",
       "      <td>58</td>\n",
       "      <td>41</td>\n",
       "      <td>21.770462</td>\n",
       "      <td>80.319644</td>\n",
       "      <td>7.038096</td>\n",
       "      <td>226.655537</td>\n",
       "      <td>20</td>\n",
       "      <td>2</td>\n",
       "      <td>1</td>\n",
       "      <td>1</td>\n",
       "      <td>2</td>\n",
       "      <td>1</td>\n",
       "      <td>9</td>\n",
       "    </tr>\n",
       "    <tr>\n",
       "      <th>2</th>\n",
       "      <td>60</td>\n",
       "      <td>55</td>\n",
       "      <td>44</td>\n",
       "      <td>23.004459</td>\n",
       "      <td>82.320763</td>\n",
       "      <td>7.840207</td>\n",
       "      <td>263.964248</td>\n",
       "      <td>20</td>\n",
       "      <td>2</td>\n",
       "      <td>4</td>\n",
       "      <td>4</td>\n",
       "      <td>1</td>\n",
       "      <td>3</td>\n",
       "      <td>6</td>\n",
       "    </tr>\n",
       "    <tr>\n",
       "      <th>3</th>\n",
       "      <td>74</td>\n",
       "      <td>35</td>\n",
       "      <td>40</td>\n",
       "      <td>26.491096</td>\n",
       "      <td>80.158363</td>\n",
       "      <td>6.980401</td>\n",
       "      <td>242.864034</td>\n",
       "      <td>20</td>\n",
       "      <td>2</td>\n",
       "      <td>1</td>\n",
       "      <td>1</td>\n",
       "      <td>2</td>\n",
       "      <td>0</td>\n",
       "      <td>9</td>\n",
       "    </tr>\n",
       "    <tr>\n",
       "      <th>4</th>\n",
       "      <td>78</td>\n",
       "      <td>42</td>\n",
       "      <td>42</td>\n",
       "      <td>20.130175</td>\n",
       "      <td>81.604873</td>\n",
       "      <td>7.628473</td>\n",
       "      <td>262.717340</td>\n",
       "      <td>20</td>\n",
       "      <td>2</td>\n",
       "      <td>4</td>\n",
       "      <td>0</td>\n",
       "      <td>2</td>\n",
       "      <td>3</td>\n",
       "      <td>6</td>\n",
       "    </tr>\n",
       "  </tbody>\n",
       "</table>\n",
       "</div>"
      ],
      "text/plain": [
       "    N   P   K  temperature   humidity        ph    rainfall  label  season  \\\n",
       "0  90  42  43    20.879744  82.002744  6.502985  202.935536     20       2   \n",
       "1  85  58  41    21.770462  80.319644  7.038096  226.655537     20       2   \n",
       "2  60  55  44    23.004459  82.320763  7.840207  263.964248     20       2   \n",
       "3  74  35  40    26.491096  80.158363  6.980401  242.864034     20       2   \n",
       "4  78  42  42    20.130175  81.604873  7.628473  262.717340     20       2   \n",
       "\n",
       "   district  soil_type  water_availability  fertilizer_used  sunlight_hours  \n",
       "0         0          3                   0                2               5  \n",
       "1         1          1                   2                1               9  \n",
       "2         4          4                   1                3               6  \n",
       "3         1          1                   2                0               9  \n",
       "4         4          0                   2                3               6  "
      ]
     },
     "execution_count": 13,
     "metadata": {},
     "output_type": "execute_result"
    }
   ],
   "source": [
    "df.head()"
   ]
  },
  {
   "cell_type": "code",
   "execution_count": null,
   "id": "915b8c60-0edd-405e-855e-e7135ff18cbb",
   "metadata": {},
   "outputs": [],
   "source": []
  }
 ],
 "metadata": {
  "kernelspec": {
   "display_name": "Python 3 (ipykernel)",
   "language": "python",
   "name": "python3"
  },
  "language_info": {
   "codemirror_mode": {
    "name": "ipython",
    "version": 3
   },
   "file_extension": ".py",
   "mimetype": "text/x-python",
   "name": "python",
   "nbconvert_exporter": "python",
   "pygments_lexer": "ipython3",
   "version": "3.13.2"
  }
 },
 "nbformat": 4,
 "nbformat_minor": 5
}
